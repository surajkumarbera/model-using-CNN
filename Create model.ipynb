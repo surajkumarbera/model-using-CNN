{
 "cells": [
  {
   "cell_type": "markdown",
   "id": "231540d8",
   "metadata": {},
   "source": [
    "## Create model from preproccesd Data"
   ]
  },
  {
   "cell_type": "code",
   "execution_count": 1,
   "id": "ee5deb61",
   "metadata": {},
   "outputs": [],
   "source": [
    "import pickle\n",
    "from keras.models import Sequential\n",
    "from keras.layers import Conv2D, MaxPooling2D, Flatten, Dense"
   ]
  },
  {
   "cell_type": "code",
   "execution_count": 2,
   "id": "b538ed4b",
   "metadata": {},
   "outputs": [
    {
     "name": "stdout",
     "output_type": "stream",
     "text": [
      "2684 2684\n"
     ]
    }
   ],
   "source": [
    "procced_data_path = \"./projects/rice\"\n",
    "\n",
    "X = pickle.load(open((procced_data_path+'/x.pkl'), 'rb'))\n",
    "Y = pickle.load(open((procced_data_path+'/y.pkl'), 'rb'))\n",
    "\n",
    "print(len(X), len(Y))"
   ]
  },
  {
   "cell_type": "code",
   "execution_count": 3,
   "id": "1ae4aa28",
   "metadata": {},
   "outputs": [
    {
     "data": {
      "text/plain": [
       "(2684, 250, 250, 3)"
      ]
     },
     "execution_count": 3,
     "metadata": {},
     "output_type": "execute_result"
    }
   ],
   "source": [
    "# featuring x for fast processing\n",
    "X = X/255\n",
    "\n",
    "X.shape"
   ]
  },
  {
   "cell_type": "code",
   "execution_count": 4,
   "id": "f4534818",
   "metadata": {},
   "outputs": [],
   "source": [
    "#create model\n",
    "model = Sequential()\n",
    "\n",
    "#add Convolutional layer\n",
    "model.add(Conv2D(64, (3,3), activation = 'relu'))\n",
    "model.add(MaxPooling2D((2,2)))\n",
    "\n",
    "model.add(Conv2D(64, (3,3), activation = 'relu'))\n",
    "model.add(MaxPooling2D((2,2)))\n",
    "\n",
    "model.add(Conv2D(64, (3,3), activation = 'relu'))\n",
    "model.add(MaxPooling2D((2,2)))\n",
    "\n",
    "model.add(Conv2D(64, (3,3), activation = 'relu'))\n",
    "model.add(MaxPooling2D((2,2)))\n",
    "\n",
    "model.add(Conv2D(64, (3,3), activation = 'relu'))\n",
    "model.add(MaxPooling2D((2,2)))\n",
    "\n",
    "# flatten the model\n",
    "model.add(Flatten())\n",
    "\n",
    "#add neural layer\n",
    "model.add(Dense(128, input_shape = X.shape[1:], activation = 'relu'))\n",
    "model.add(Dense(128, activation = 'relu'))\n",
    "model.add(Dense(128, activation = 'relu'))\n",
    "model.add(Dense(128, activation = 'relu'))\n",
    "\n",
    "#add output layer ***********************************************************\n",
    "outputNode = 4\n",
    "model.add(Dense(outputNode, activation = 'softmax'))"
   ]
  },
  {
   "cell_type": "code",
   "execution_count": 5,
   "id": "075c4308",
   "metadata": {},
   "outputs": [],
   "source": [
    "model.compile(optimizer = 'adam', loss = 'sparse_categorical_crossentropy', metrics = ['accuracy'])"
   ]
  },
  {
   "cell_type": "code",
   "execution_count": 6,
   "id": "e1def550",
   "metadata": {
    "scrolled": true
   },
   "outputs": [
    {
     "name": "stdout",
     "output_type": "stream",
     "text": [
      "Epoch 1/30\n",
      "76/76 [==============================] - 105s 1s/step - loss: 1.2957 - accuracy: 0.4451 - val_loss: 1.2977 - val_accuracy: 0.4052\n",
      "Epoch 2/30\n",
      "76/76 [==============================] - 106s 1s/step - loss: 1.2954 - accuracy: 0.4480 - val_loss: 1.3158 - val_accuracy: 0.4052\n",
      "Epoch 3/30\n",
      "76/76 [==============================] - 102s 1s/step - loss: 1.2415 - accuracy: 0.4468 - val_loss: 1.2617 - val_accuracy: 0.4052\n",
      "Epoch 4/30\n",
      "76/76 [==============================] - 104s 1s/step - loss: 1.1938 - accuracy: 0.4733 - val_loss: 1.1775 - val_accuracy: 0.4833\n",
      "Epoch 5/30\n",
      "76/76 [==============================] - 102s 1s/step - loss: 1.1526 - accuracy: 0.5176 - val_loss: 1.1194 - val_accuracy: 0.4944\n",
      "Epoch 6/30\n",
      "76/76 [==============================] - 99s 1s/step - loss: 1.0929 - accuracy: 0.5313 - val_loss: 1.0749 - val_accuracy: 0.4907\n",
      "Epoch 7/30\n",
      "76/76 [==============================] - 105s 1s/step - loss: 1.0726 - accuracy: 0.5379 - val_loss: 1.0722 - val_accuracy: 0.5093\n",
      "Epoch 8/30\n",
      "76/76 [==============================] - 103s 1s/step - loss: 1.0710 - accuracy: 0.5387 - val_loss: 1.1260 - val_accuracy: 0.4610\n",
      "Epoch 9/30\n",
      "76/76 [==============================] - 100s 1s/step - loss: 1.0157 - accuracy: 0.5685 - val_loss: 1.0091 - val_accuracy: 0.5836\n",
      "Epoch 10/30\n",
      "76/76 [==============================] - 103s 1s/step - loss: 0.9899 - accuracy: 0.5756 - val_loss: 0.9821 - val_accuracy: 0.5651\n",
      "Epoch 11/30\n",
      "76/76 [==============================] - 101s 1s/step - loss: 0.9745 - accuracy: 0.5847 - val_loss: 1.0309 - val_accuracy: 0.5093\n",
      "Epoch 12/30\n",
      "76/76 [==============================] - 101s 1s/step - loss: 0.9653 - accuracy: 0.5934 - val_loss: 1.2071 - val_accuracy: 0.4907\n",
      "Epoch 13/30\n",
      "76/76 [==============================] - 101s 1s/step - loss: 0.9479 - accuracy: 0.6029 - val_loss: 0.9870 - val_accuracy: 0.5688\n",
      "Epoch 14/30\n",
      "76/76 [==============================] - 97s 1s/step - loss: 0.8847 - accuracy: 0.6224 - val_loss: 1.1905 - val_accuracy: 0.5093\n",
      "Epoch 15/30\n",
      "76/76 [==============================] - 102s 1s/step - loss: 0.8745 - accuracy: 0.6418 - val_loss: 0.9586 - val_accuracy: 0.5762\n",
      "Epoch 16/30\n",
      "76/76 [==============================] - 100s 1s/step - loss: 0.8307 - accuracy: 0.6576 - val_loss: 0.9765 - val_accuracy: 0.5911\n",
      "Epoch 17/30\n",
      "76/76 [==============================] - 106s 1s/step - loss: 0.8073 - accuracy: 0.6671 - val_loss: 0.9547 - val_accuracy: 0.5762\n",
      "Epoch 18/30\n",
      "76/76 [==============================] - 99s 1s/step - loss: 0.7592 - accuracy: 0.6928 - val_loss: 0.9874 - val_accuracy: 0.5874\n",
      "Epoch 19/30\n",
      "76/76 [==============================] - 98s 1s/step - loss: 0.7300 - accuracy: 0.7027 - val_loss: 1.0324 - val_accuracy: 0.5874\n",
      "Epoch 20/30\n",
      "76/76 [==============================] - 99s 1s/step - loss: 0.6882 - accuracy: 0.7014 - val_loss: 1.0163 - val_accuracy: 0.5688\n",
      "Epoch 21/30\n",
      "76/76 [==============================] - 98s 1s/step - loss: 0.6596 - accuracy: 0.7242 - val_loss: 1.0481 - val_accuracy: 0.5613\n",
      "Epoch 22/30\n",
      "76/76 [==============================] - 98s 1s/step - loss: 0.5910 - accuracy: 0.7607 - val_loss: 1.1712 - val_accuracy: 0.5799\n",
      "Epoch 23/30\n",
      "76/76 [==============================] - 98s 1s/step - loss: 0.5545 - accuracy: 0.7851 - val_loss: 1.1168 - val_accuracy: 0.5502\n",
      "Epoch 24/30\n",
      "76/76 [==============================] - 98s 1s/step - loss: 0.5676 - accuracy: 0.7673 - val_loss: 1.2130 - val_accuracy: 0.5502\n",
      "Epoch 25/30\n",
      "76/76 [==============================] - 101s 1s/step - loss: 0.4780 - accuracy: 0.8149 - val_loss: 1.2231 - val_accuracy: 0.5613\n",
      "Epoch 26/30\n",
      "76/76 [==============================] - 100s 1s/step - loss: 0.4639 - accuracy: 0.8145 - val_loss: 1.4835 - val_accuracy: 0.5762\n",
      "Epoch 27/30\n",
      "76/76 [==============================] - 99s 1s/step - loss: 0.4136 - accuracy: 0.8418 - val_loss: 1.4479 - val_accuracy: 0.5911\n",
      "Epoch 28/30\n",
      "76/76 [==============================] - 99s 1s/step - loss: 0.4231 - accuracy: 0.8224 - val_loss: 1.2924 - val_accuracy: 0.5911\n",
      "Epoch 29/30\n",
      "76/76 [==============================] - 98s 1s/step - loss: 0.3605 - accuracy: 0.8559 - val_loss: 1.5125 - val_accuracy: 0.5985\n",
      "Epoch 30/30\n",
      "76/76 [==============================] - 98s 1s/step - loss: 0.3288 - accuracy: 0.8675 - val_loss: 1.5649 - val_accuracy: 0.5465\n"
     ]
    },
    {
     "data": {
      "text/plain": [
       "<keras.callbacks.History at 0x17a70d71c40>"
      ]
     },
     "execution_count": 6,
     "metadata": {},
     "output_type": "execute_result"
    }
   ],
   "source": [
    "model.fit(X, Y, epochs = 30, validation_split = 0.1)"
   ]
  },
  {
   "cell_type": "code",
   "execution_count": 7,
   "id": "cb5fd632",
   "metadata": {},
   "outputs": [],
   "source": [
    "model_save_path = './projects/rice/model.h5'\n",
    "\n",
    "model.save(model_save_path)\n"
   ]
  }
 ],
 "metadata": {
  "kernelspec": {
   "display_name": "Python 3 (ipykernel)",
   "language": "python",
   "name": "python3"
  },
  "language_info": {
   "codemirror_mode": {
    "name": "ipython",
    "version": 3
   },
   "file_extension": ".py",
   "mimetype": "text/x-python",
   "name": "python",
   "nbconvert_exporter": "python",
   "pygments_lexer": "ipython3",
   "version": "3.9.7"
  }
 },
 "nbformat": 4,
 "nbformat_minor": 5
}
