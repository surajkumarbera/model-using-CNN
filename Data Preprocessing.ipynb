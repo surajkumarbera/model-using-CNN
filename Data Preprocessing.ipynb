{
 "cells": [
  {
   "cell_type": "markdown",
   "id": "bb67640c",
   "metadata": {},
   "source": [
    "## Process data for model training"
   ]
  },
  {
   "cell_type": "code",
   "execution_count": 1,
   "id": "2a65a0d6",
   "metadata": {},
   "outputs": [],
   "source": [
    "import numpy as np\n",
    "import cv2 # pip install opencv-python\n",
    "import os\n",
    "import matplotlib.pyplot as plt\n",
    "import random\n",
    "import pickle"
   ]
  },
  {
   "cell_type": "code",
   "execution_count": 2,
   "id": "a17d801e",
   "metadata": {
    "scrolled": true
   },
   "outputs": [
    {
     "name": "stdout",
     "output_type": "stream",
     "text": [
      "D:\\Projects\\ML\\cnn image_classifiication\\cnn_clasifier\\projects\\rice\n"
     ]
    }
   ],
   "source": [
    "# store the base directory\n",
    "\n",
    "BASE_DIR = os.path.join(os.getcwd(), 'projects', 'rice')\n",
    "\n",
    "print(BASE_DIR)"
   ]
  },
  {
   "cell_type": "code",
   "execution_count": 3,
   "id": "485f772b",
   "metadata": {},
   "outputs": [
    {
     "name": "stdout",
     "output_type": "stream",
     "text": [
      "['BrownSpot', 'Healthy', 'Hispa', 'LeafBlast']\n"
     ]
    }
   ],
   "source": [
    "# list the categories\n",
    "training_data_path = os.path.join(BASE_DIR, 'train')\n",
    "categories = os.listdir(training_data_path)\n",
    "\n",
    "print(categories)"
   ]
  },
  {
   "cell_type": "code",
   "execution_count": 4,
   "id": "52757241",
   "metadata": {},
   "outputs": [
    {
     "data": {
      "text/plain": [
       "2684"
      ]
     },
     "execution_count": 4,
     "metadata": {},
     "output_type": "execute_result"
    }
   ],
   "source": [
    "# get data fro trainnig\n",
    "\n",
    "IMG_SIZE = 250\n",
    "data = []\n",
    "\n",
    "for category in categories:\n",
    "    folder = os.path.join(training_data_path, category)\n",
    "    # print(\"reading =>\", folder)\n",
    "    for img in os.listdir(folder):\n",
    "        img_path = os.path.join(folder, img)\n",
    "        #print(\"    Image => \", img_path)\n",
    "        #break\n",
    "        label = categories.index(category)\n",
    "        img_arr = cv2.imread(img_path)\n",
    "        img_arr = cv2.resize(img_arr, (IMG_SIZE, IMG_SIZE))\n",
    "        #plt.imshow(img_arr)\n",
    "        #break\n",
    "        data.append([img_arr, label])\n",
    "\n",
    "len(data)"
   ]
  },
  {
   "cell_type": "code",
   "execution_count": 5,
   "id": "c890b448",
   "metadata": {},
   "outputs": [],
   "source": [
    "# shuffle dog and cat\n",
    "\n",
    "random.shuffle(data)"
   ]
  },
  {
   "cell_type": "code",
   "execution_count": 6,
   "id": "52eb429e",
   "metadata": {},
   "outputs": [
    {
     "name": "stdout",
     "output_type": "stream",
     "text": [
      "2684 2684\n"
     ]
    }
   ],
   "source": [
    "X = []\n",
    "Y = []\n",
    "\n",
    "for features, lables in data:\n",
    "    X.append(features)\n",
    "    Y.append(lables)\n",
    "\n",
    "print(len(X), len(Y))"
   ]
  },
  {
   "cell_type": "code",
   "execution_count": 7,
   "id": "b2ab1834",
   "metadata": {},
   "outputs": [
    {
     "name": "stdout",
     "output_type": "stream",
     "text": [
      "2684 2684\n"
     ]
    }
   ],
   "source": [
    "X = np.array(X)\n",
    "Y = np.array(Y)\n",
    "\n",
    "print(len(X), len(Y))"
   ]
  },
  {
   "cell_type": "code",
   "execution_count": 8,
   "id": "d30af547",
   "metadata": {},
   "outputs": [],
   "source": [
    "procced_data_path = \"./projects/rice\"\n",
    "\n",
    "pickle.dump(X, open((procced_data_path+'/x.pkl'), 'wb'))\n",
    "pickle.dump(Y, open((procced_data_path+'/y.pkl'), 'wb'))\n"
   ]
  }
 ],
 "metadata": {
  "kernelspec": {
   "display_name": "Python 3 (ipykernel)",
   "language": "python",
   "name": "python3"
  },
  "language_info": {
   "codemirror_mode": {
    "name": "ipython",
    "version": 3
   },
   "file_extension": ".py",
   "mimetype": "text/x-python",
   "name": "python",
   "nbconvert_exporter": "python",
   "pygments_lexer": "ipython3",
   "version": "3.9.7"
  }
 },
 "nbformat": 4,
 "nbformat_minor": 5
}
